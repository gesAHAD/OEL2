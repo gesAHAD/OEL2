{
 "cells": [
  {
   "cell_type": "markdown",
   "id": "d4457664",
   "metadata": {},
   "source": [
    " QUESTION 1 : PATH FINDING FROM A TO G USING BFS(BREADTH FIRST SEARCH)"
   ]
  },
  {
   "cell_type": "code",
   "execution_count": 1,
   "id": "455180c0",
   "metadata": {},
   "outputs": [],
   "source": [
    "from collections import deque"
   ]
  },
  {
   "cell_type": "code",
   "execution_count": null,
   "id": "bb8ebe18",
   "metadata": {},
   "outputs": [],
   "source": [
    "def bfs(graph, start):\n",
    "    #initializing BFS\n",
    "    visited = set()\n",
    "    queue = deque([start])\n",
    "    bfs_order = []\n",
    "    # when there is atleast one elemnt\n",
    "    while queue:\n",
    "        current = queue.popleft()\n",
    "        if current not in visited:\n",
    "            visited.add(current)\n",
    "            bfs_order.append(current)\n",
    "            # transversing on all neighbors then adding to queue\n",
    "            for neighbor, _ in graph[current]:\n",
    "                if neighbor not in visited:\n",
    "                    queue.append(neighbor)\n",
    "\n",
    "    return bfs_order\n",
    "\n",
    "    \n",
    "    "
   ]
  },
  {
   "cell_type": "code",
   "execution_count": 20,
   "id": "76514d64",
   "metadata": {},
   "outputs": [
    {
     "data": {
      "text/plain": [
       "['A', 'B', 'C', 'D', 'E']"
      ]
     },
     "execution_count": 20,
     "metadata": {},
     "output_type": "execute_result"
    }
   ],
   "source": [
    "graph = {\n",
    "    'A': [('B', 1), ('C', 1)],\n",
    "    'B': [('D', 1)],\n",
    "    'C': [('E', 1)],\n",
    "    'D': [],\n",
    "    'E': []\n",
    "}\n",
    "(bfs (graph, 'A'))\n",
    "                    "
   ]
  },
  {
   "cell_type": "markdown",
   "id": "dd739638",
   "metadata": {},
   "source": [
    "\n",
    "QUESTION 2 : BY USING DFS"
   ]
  },
  {
   "cell_type": "code",
   "execution_count": null,
   "id": "dba21270",
   "metadata": {},
   "outputs": [],
   "source": [
    "def dfs(graph, start, visited=None, result=None):\n",
    "    #CONDITIONING the algorithm\n",
    "    if visited is None:\n",
    "        visited = set()\n",
    "    if result is None:\n",
    "        result = []\n",
    "\n",
    "    visited.add(start)\n",
    "    result.append(start)\n",
    "    #transversing neighbors and adding themt to result\n",
    "\n",
    "    for neighbor in graph[start]:  \n",
    "        for neighbor, _ in graph[start]:\n",
    "            dfs(graph, neighbor, visited, result)\n",
    "\n",
    "    return result"
   ]
  },
  {
   "cell_type": "code",
   "execution_count": 22,
   "id": "7ce04044",
   "metadata": {},
   "outputs": [
    {
     "name": "stdout",
     "output_type": "stream",
     "text": [
      "['A', 'B', 'D', 'C', 'E', 'B', 'D', 'C', 'E']\n"
     ]
    }
   ],
   "source": [
    "graph = {\n",
    "    'A': [('B', 1), ('C', 1)],\n",
    "    'B': [('D', 1)],\n",
    "    'C': [('E', 1)],\n",
    "    'D': [],\n",
    "    'E': []\n",
    "}\n",
    "\n",
    "print(dfs(graph, 'A'))"
   ]
  }
 ],
 "metadata": {
  "kernelspec": {
   "display_name": "Python 3",
   "language": "python",
   "name": "python3"
  },
  "language_info": {
   "codemirror_mode": {
    "name": "ipython",
    "version": 3
   },
   "file_extension": ".py",
   "mimetype": "text/x-python",
   "name": "python",
   "nbconvert_exporter": "python",
   "pygments_lexer": "ipython3",
   "version": "3.13.3"
  }
 },
 "nbformat": 4,
 "nbformat_minor": 5
}
