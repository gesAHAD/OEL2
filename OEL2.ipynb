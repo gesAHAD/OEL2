{
 "cells": [
  {
   "cell_type": "markdown",
   "id": "d1a948f3",
   "metadata": {},
   "source": [
    "TASK : LOADING THE DATA SET"
   ]
  },
  {
   "cell_type": "code",
   "execution_count": 3,
   "id": "4b8e5383",
   "metadata": {},
   "outputs": [
    {
     "data": {
      "text/html": [
       "<div>\n",
       "<style scoped>\n",
       "    .dataframe tbody tr th:only-of-type {\n",
       "        vertical-align: middle;\n",
       "    }\n",
       "\n",
       "    .dataframe tbody tr th {\n",
       "        vertical-align: top;\n",
       "    }\n",
       "\n",
       "    .dataframe thead th {\n",
       "        text-align: right;\n",
       "    }\n",
       "</style>\n",
       "<table border=\"1\" class=\"dataframe\">\n",
       "  <thead>\n",
       "    <tr style=\"text-align: right;\">\n",
       "      <th></th>\n",
       "      <th>shelter_id</th>\n",
       "      <th>shelter_name</th>\n",
       "      <th>capacity</th>\n",
       "    </tr>\n",
       "  </thead>\n",
       "  <tbody>\n",
       "    <tr>\n",
       "      <th>0</th>\n",
       "      <td>S1</td>\n",
       "      <td>Alpha Shelter</td>\n",
       "      <td>200</td>\n",
       "    </tr>\n",
       "    <tr>\n",
       "      <th>1</th>\n",
       "      <td>S2</td>\n",
       "      <td>Beta Shelter</td>\n",
       "      <td>150</td>\n",
       "    </tr>\n",
       "    <tr>\n",
       "      <th>2</th>\n",
       "      <td>S3</td>\n",
       "      <td>Delta Shelter</td>\n",
       "      <td>300</td>\n",
       "    </tr>\n",
       "    <tr>\n",
       "      <th>3</th>\n",
       "      <td>S4</td>\n",
       "      <td>Echo Shelter</td>\n",
       "      <td>100</td>\n",
       "    </tr>\n",
       "    <tr>\n",
       "      <th>4</th>\n",
       "      <td>S5</td>\n",
       "      <td>Foxtrot Shelter</td>\n",
       "      <td>250</td>\n",
       "    </tr>\n",
       "  </tbody>\n",
       "</table>\n",
       "</div>"
      ],
      "text/plain": [
       "  shelter_id     shelter_name  capacity\n",
       "0         S1    Alpha Shelter       200\n",
       "1         S2     Beta Shelter       150\n",
       "2         S3    Delta Shelter       300\n",
       "3         S4     Echo Shelter       100\n",
       "4         S5  Foxtrot Shelter       250"
      ]
     },
     "execution_count": 3,
     "metadata": {},
     "output_type": "execute_result"
    }
   ],
   "source": [
    "import pandas as pd\n",
    "pf = pd.read_csv('shelter_data.csv')\n",
    "pf"
   ]
  },
  {
   "cell_type": "markdown",
   "id": "14f15887",
   "metadata": {},
   "source": [
    "TASK: PRINT ALL DATA(CAPACITY) UNDER 200"
   ]
  },
  {
   "cell_type": "code",
   "execution_count": 8,
   "id": "c465fc2e",
   "metadata": {},
   "outputs": [
    {
     "name": "stdout",
     "output_type": "stream",
     "text": [
      "Shelters with capacity less than 200:\n",
      "  shelter_id  shelter_name  capacity\n",
      "1         S2  Beta Shelter       150\n",
      "3         S4  Echo Shelter       100\n"
     ]
    }
   ],
   "source": [
    "print(\"Shelters with capacity less than 200:\")\n",
    "print(pf[pf['capacity'] < 200])"
   ]
  },
  {
   "cell_type": "markdown",
   "id": "a761e32d",
   "metadata": {},
   "source": [
    "TASK : SHOW SHELTER WITH HIGHEST CAPACITY"
   ]
  },
  {
   "cell_type": "code",
   "execution_count": 10,
   "id": "9717ff49",
   "metadata": {},
   "outputs": [
    {
     "name": "stdout",
     "output_type": "stream",
     "text": [
      "\n",
      "Shelter with the highest capacity:\n",
      "300\n"
     ]
    }
   ],
   "source": [
    "highest_capacity =pf['capacity'].max()\n",
    "print(\"\\nShelter with the highest capacity:\")\n",
    "print(highest_capacity)"
   ]
  },
  {
   "cell_type": "markdown",
   "id": "7d636590",
   "metadata": {},
   "source": [
    " TASK 2:Represent the road connections between shelters as a dictionary (adjacency list): "
   ]
  },
  {
   "cell_type": "code",
   "execution_count": 13,
   "id": "65a37e2f",
   "metadata": {},
   "outputs": [
    {
     "ename": "ModuleNotFoundError",
     "evalue": "No module named 'matplotlib'",
     "output_type": "error",
     "traceback": [
      "\u001b[31m---------------------------------------------------------------------------\u001b[39m",
      "\u001b[31mModuleNotFoundError\u001b[39m                       Traceback (most recent call last)",
      "\u001b[36mCell\u001b[39m\u001b[36m \u001b[39m\u001b[32mIn[13]\u001b[39m\u001b[32m, line 2\u001b[39m\n\u001b[32m      1\u001b[39m \u001b[38;5;28;01mimport\u001b[39;00m\u001b[38;5;250m \u001b[39m\u001b[34;01mnetworkx\u001b[39;00m\u001b[38;5;250m \u001b[39m\u001b[38;5;28;01mas\u001b[39;00m\u001b[38;5;250m \u001b[39m\u001b[34;01mnx\u001b[39;00m\n\u001b[32m----> \u001b[39m\u001b[32m2\u001b[39m \u001b[38;5;28;01mimport\u001b[39;00m\u001b[38;5;250m \u001b[39m\u001b[34;01mmatplotlib\u001b[39;00m\u001b[34;01m.\u001b[39;00m\u001b[34;01mpyplot\u001b[39;00m\u001b[38;5;250m \u001b[39m\u001b[38;5;28;01mas\u001b[39;00m\u001b[38;5;250m \u001b[39m\u001b[34;01mplt\u001b[39;00m\n\u001b[32m      3\u001b[39m roads = {\n\u001b[32m      4\u001b[39m  \u001b[33m'\u001b[39m\u001b[33mS1\u001b[39m\u001b[33m'\u001b[39m: [\u001b[33m'\u001b[39m\u001b[33mS2\u001b[39m\u001b[33m'\u001b[39m, \u001b[33m'\u001b[39m\u001b[33mS3\u001b[39m\u001b[33m'\u001b[39m],\n\u001b[32m      5\u001b[39m  \u001b[33m'\u001b[39m\u001b[33mS2\u001b[39m\u001b[33m'\u001b[39m: [\u001b[33m'\u001b[39m\u001b[33mS1\u001b[39m\u001b[33m'\u001b[39m, \u001b[33m'\u001b[39m\u001b[33mS4\u001b[39m\u001b[33m'\u001b[39m],\n\u001b[32m   (...)\u001b[39m\u001b[32m      8\u001b[39m  \u001b[33m'\u001b[39m\u001b[33mS5\u001b[39m\u001b[33m'\u001b[39m: [\u001b[33m'\u001b[39m\u001b[33mS3\u001b[39m\u001b[33m'\u001b[39m]\n\u001b[32m      9\u001b[39m }\n\u001b[32m     10\u001b[39m g=nx.Graph(roads)\n",
      "\u001b[31mModuleNotFoundError\u001b[39m: No module named 'matplotlib'"
     ]
    }
   ],
   "source": [
    "import networkx as nx\n",
    "import matplotlib.pyplot as plt\n",
    "roads = {\n",
    " 'S1': ['S2', 'S3'],\n",
    " 'S2': ['S1', 'S4'],\n",
    " 'S3': ['S1', 'S5'],\n",
    " 'S4': ['S2'],\n",
    " 'S5': ['S3']\n",
    "}\n",
    "g=nx.Graph(roads)\n",
    "nx.draw(g)"
   ]
  },
  {
   "cell_type": "markdown",
   "id": "f1366f59",
   "metadata": {},
   "source": [
    "TASK 3:Write a function find_reachable_shelters(roads, start) that performs BFS and returns shelter \n",
    "IDs reachable from the start shelter. "
   ]
  },
  {
   "cell_type": "code",
   "execution_count": null,
   "id": "fce8a6c0",
   "metadata": {},
   "outputs": [
    {
     "name": "stdout",
     "output_type": "stream",
     "text": [
      "['S1', 'S2', 'S3', 'S4', 'S5']\n",
      "['S4', 'S2', 'S1', 'S3', 'S5']\n"
     ]
    }
   ],
   "source": [
    "from collections import deque\n",
    "\n",
    "\n",
    "\n",
    "def find_reach_shelters(roads, start):\n",
    "    reached = set()\n",
    "    queue = deque([start])\n",
    "    reachable = []\n",
    "\n",
    "    while queue:\n",
    "        shelter = queue.popleft()\n",
    "        if shelter not in reached:\n",
    "            reached.add(shelter)\n",
    "            reachable.append(shelter)\n",
    "            for neighbor in roads.get(shelter, []):\n",
    "                if neighbor not in reached:\n",
    "                    queue.append(neighbor)\n",
    "\n",
    "    return reachable\n",
    "roads = {\n",
    "    'S1': ['S2', 'S3'],\n",
    "    'S2': ['S1', 'S4'],\n",
    "    'S3': ['S1', 'S5'],\n",
    "    'S4': ['S2'],\n",
    "    'S5': ['S3']\n",
    "}\n",
    "\n",
    "print(find_reachable_shelters(roads, 'S1'))  \n",
    "print(find_reachable_shelters(roads, 'S4'))  "
   ]
  }
 ],
 "metadata": {
  "kernelspec": {
   "display_name": "Python 3",
   "language": "python",
   "name": "python3"
  },
  "language_info": {
   "codemirror_mode": {
    "name": "ipython",
    "version": 3
   },
   "file_extension": ".py",
   "mimetype": "text/x-python",
   "name": "python",
   "nbconvert_exporter": "python",
   "pygments_lexer": "ipython3",
   "version": "3.13.3"
  }
 },
 "nbformat": 4,
 "nbformat_minor": 5
}
